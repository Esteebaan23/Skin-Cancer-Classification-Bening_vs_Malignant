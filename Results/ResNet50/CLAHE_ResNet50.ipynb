{
  "nbformat": 4,
  "nbformat_minor": 0,
  "metadata": {
    "colab": {
      "provenance": [],
      "gpuType": "T4"
    },
    "kernelspec": {
      "name": "python3",
      "display_name": "Python 3"
    },
    "language_info": {
      "name": "python"
    },
    "accelerator": "GPU"
  },
  "cells": [
    {
      "cell_type": "code",
      "execution_count": 1,
      "metadata": {
        "colab": {
          "base_uri": "https://localhost:8080/"
        },
        "id": "VA8r1XWUbhSw",
        "outputId": "8f4123fd-8fe1-4f7e-9759-644217c8437d"
      },
      "outputs": [
        {
          "output_type": "stream",
          "name": "stdout",
          "text": [
            "Mounted at /content/drive\n"
          ]
        }
      ],
      "source": [
        "# Mounting Google Drive\n",
        "from google.colab import drive\n",
        "drive.mount('/content/drive')"
      ]
    },
    {
      "cell_type": "code",
      "source": [
        "# Importing Libraries\n",
        "import os\n",
        "import cv2\n",
        "import numpy as np\n",
        "import matplotlib.pyplot as plt\n",
        "from sklearn.metrics import classification_report, accuracy_score, precision_recall_curve\n",
        "from tensorflow.keras.preprocessing.image import ImageDataGenerator\n",
        "from tensorflow.keras.applications import ResNet50\n",
        "from tensorflow.keras.models import Model\n",
        "from tensorflow.keras.layers import Dense, GlobalAveragePooling2D\n",
        "from tensorflow.keras.optimizers import Adam\n",
        "from tensorflow.keras.preprocessing import image\n",
        "from tensorflow.keras.utils import to_categorical\n",
        "from google.colab import files\n",
        "from PIL import Image"
      ],
      "metadata": {
        "id": "S4mSp6L4brtY"
      },
      "execution_count": 2,
      "outputs": []
    },
    {
      "cell_type": "code",
      "source": [
        "# Applying CLAHE Preprocessing Function\n",
        "def apply_clahe(img):\n",
        "    lab = cv2.cvtColor(img, cv2.COLOR_RGB2LAB)\n",
        "    l, a, b = cv2.split(lab)\n",
        "    clahe = cv2.createCLAHE(clipLimit=2.0, tileGridSize=(8,8))\n",
        "    cl = clahe.apply(l)\n",
        "    limg = cv2.merge((cl, a, b))\n",
        "    return cv2.cvtColor(limg, cv2.COLOR_LAB2RGB)"
      ],
      "metadata": {
        "id": "iTLDGf_2brqE"
      },
      "execution_count": 3,
      "outputs": []
    },
    {
      "cell_type": "code",
      "source": [
        "# Preprocessing and Loading Data with CLAHE\n",
        "def load_images_with_clahe(folder_path, label, target_size=(224, 224)):\n",
        "    images, labels = [], []\n",
        "    for filename in os.listdir(folder_path):\n",
        "        if filename.endswith(\".jpg\"):\n",
        "            img_path = os.path.join(folder_path, filename)\n",
        "            img = cv2.imread(img_path)\n",
        "            img = cv2.cvtColor(img, cv2.COLOR_BGR2RGB)\n",
        "            img = apply_clahe(img)\n",
        "            img = cv2.resize(img, target_size)\n",
        "            images.append(img)\n",
        "            labels.append(label)\n",
        "    return np.array(images), np.array(labels)\n",
        "\n",
        "base_path = '/content/drive/MyDrive/ISIC_image_data'\n",
        "train_benign, yb1 = load_images_with_clahe(os.path.join(base_path, 'Train/Benign'), 0)\n",
        "train_malignant, ym1 = load_images_with_clahe(os.path.join(base_path, 'Train/Malignant'), 1)\n",
        "val_benign, yb2 = load_images_with_clahe(os.path.join(base_path, 'Val/Benign'), 0)\n",
        "val_malignant, ym2 = load_images_with_clahe(os.path.join(base_path, 'Val/Malignant'), 1)\n",
        "\n",
        "X_train = np.concatenate([train_benign, train_malignant])\n",
        "y_train = np.concatenate([yb1, ym1])\n",
        "X_val = np.concatenate([val_benign, val_malignant])\n",
        "y_val = np.concatenate([yb2, ym2])\n",
        "\n",
        "from tensorflow.keras.applications.resnet50 import preprocess_input\n",
        "# Converts RGB to BGR\n",
        "# Subtracts ImageNet mean pixel values\n",
        "# Ensures the input format matches what ResNet50 expects\n",
        "\n",
        "X_train = preprocess_input(X_train)\n",
        "X_val = preprocess_input(X_val)\n",
        "\n",
        "y_train_cat = to_categorical(y_train, 2)\n",
        "y_val_cat = to_categorical(y_val, 2)"
      ],
      "metadata": {
        "id": "iO04QFz0brnj"
      },
      "execution_count": 4,
      "outputs": []
    },
    {
      "cell_type": "code",
      "source": [
        "# Defining and Training ResNet50 Model\n",
        "base_model = ResNet50(weights='imagenet', include_top=False, input_shape=(224, 224, 3))\n",
        "x = base_model.output\n",
        "x = GlobalAveragePooling2D()(x)\n",
        "predictions = Dense(2, activation='softmax')(x)\n",
        "model = Model(inputs=base_model.input, outputs=predictions)\n",
        "\n",
        "from sklearn.utils.class_weight import compute_class_weight\n",
        "\n",
        "# Compute class weights\n",
        "class_weights = compute_class_weight(class_weight='balanced', classes=np.unique(y_train), y=y_train)\n",
        "class_weights = {i: class_weights[i] for i in range(2)}\n",
        "\n",
        "# Fine-tune the last 30 layers\n",
        "for layer in base_model.layers[-30:]:\n",
        "    layer.trainable = True\n",
        "\n",
        "# Compile model\n",
        "model.compile(optimizer=Adam(learning_rate=0.0001), loss='categorical_crossentropy', metrics=['accuracy'])\n",
        "\n",
        "# Data augmentation\n",
        "datagen = ImageDataGenerator(horizontal_flip=True, rotation_range=15, width_shift_range=0.1, height_shift_range=0.1)\n",
        "train_generator = datagen.flow(X_train, y_train_cat, batch_size=32)\n",
        "\n",
        "# Train\n",
        "model.fit(train_generator, epochs=7, validation_data=(X_val, y_val_cat), class_weight=class_weights)\n"
      ],
      "metadata": {
        "colab": {
          "base_uri": "https://localhost:8080/"
        },
        "id": "tNnFT7Z_brlK",
        "outputId": "d383f0e0-ab90-40e8-890e-44dba668ffef"
      },
      "execution_count": 5,
      "outputs": [
        {
          "output_type": "stream",
          "name": "stdout",
          "text": [
            "Downloading data from https://storage.googleapis.com/tensorflow/keras-applications/resnet/resnet50_weights_tf_dim_ordering_tf_kernels_notop.h5\n",
            "\u001b[1m94765736/94765736\u001b[0m \u001b[32m━━━━━━━━━━━━━━━━━━━━\u001b[0m\u001b[37m\u001b[0m \u001b[1m1s\u001b[0m 0us/step\n"
          ]
        },
        {
          "output_type": "stream",
          "name": "stderr",
          "text": [
            "/usr/local/lib/python3.11/dist-packages/keras/src/trainers/data_adapters/py_dataset_adapter.py:121: UserWarning: Your `PyDataset` class should call `super().__init__(**kwargs)` in its constructor. `**kwargs` can include `workers`, `use_multiprocessing`, `max_queue_size`. Do not pass these arguments to `fit()`, as they will be ignored.\n",
            "  self._warn_if_super_not_called()\n"
          ]
        },
        {
          "output_type": "stream",
          "name": "stdout",
          "text": [
            "Epoch 1/7\n",
            "\u001b[1m87/87\u001b[0m \u001b[32m━━━━━━━━━━━━━━━━━━━━\u001b[0m\u001b[37m\u001b[0m \u001b[1m138s\u001b[0m 861ms/step - accuracy: 0.7580 - loss: 0.4772 - val_accuracy: 0.8479 - val_loss: 0.3729\n",
            "Epoch 2/7\n",
            "\u001b[1m87/87\u001b[0m \u001b[32m━━━━━━━━━━━━━━━━━━━━\u001b[0m\u001b[37m\u001b[0m \u001b[1m42s\u001b[0m 476ms/step - accuracy: 0.9084 - loss: 0.2254 - val_accuracy: 0.8705 - val_loss: 0.3210\n",
            "Epoch 3/7\n",
            "\u001b[1m87/87\u001b[0m \u001b[32m━━━━━━━━━━━━━━━━━━━━\u001b[0m\u001b[37m\u001b[0m \u001b[1m41s\u001b[0m 473ms/step - accuracy: 0.9469 - loss: 0.1519 - val_accuracy: 0.8720 - val_loss: 0.3474\n",
            "Epoch 4/7\n",
            "\u001b[1m87/87\u001b[0m \u001b[32m━━━━━━━━━━━━━━━━━━━━\u001b[0m\u001b[37m\u001b[0m \u001b[1m42s\u001b[0m 480ms/step - accuracy: 0.9540 - loss: 0.1065 - val_accuracy: 0.8765 - val_loss: 0.4475\n",
            "Epoch 5/7\n",
            "\u001b[1m87/87\u001b[0m \u001b[32m━━━━━━━━━━━━━━━━━━━━\u001b[0m\u001b[37m\u001b[0m \u001b[1m41s\u001b[0m 474ms/step - accuracy: 0.9523 - loss: 0.1192 - val_accuracy: 0.8765 - val_loss: 0.4505\n",
            "Epoch 6/7\n",
            "\u001b[1m87/87\u001b[0m \u001b[32m━━━━━━━━━━━━━━━━━━━━\u001b[0m\u001b[37m\u001b[0m \u001b[1m83s\u001b[0m 481ms/step - accuracy: 0.9684 - loss: 0.0943 - val_accuracy: 0.8795 - val_loss: 0.5032\n",
            "Epoch 7/7\n",
            "\u001b[1m87/87\u001b[0m \u001b[32m━━━━━━━━━━━━━━━━━━━━\u001b[0m\u001b[37m\u001b[0m \u001b[1m82s\u001b[0m 482ms/step - accuracy: 0.9801 - loss: 0.0608 - val_accuracy: 0.8870 - val_loss: 0.4768\n"
          ]
        },
        {
          "output_type": "execute_result",
          "data": {
            "text/plain": [
              "<keras.src.callbacks.history.History at 0x7fc572a23b50>"
            ]
          },
          "metadata": {},
          "execution_count": 5
        }
      ]
    },
    {
      "cell_type": "code",
      "source": [
        "# Evaluation - Precision, Recall, F1-Score\n",
        "from sklearn.metrics import classification_report\n",
        "\n",
        "y_pred = model.predict(X_val)\n",
        "y_pred_classes = np.argmax(y_pred, axis=1)\n",
        "print(classification_report(y_val, y_pred_classes, target_names=[\"Benign\", \"Malignant\"]))"
      ],
      "metadata": {
        "colab": {
          "base_uri": "https://localhost:8080/"
        },
        "id": "l4XQFDP1briy",
        "outputId": "ec2cb0d0-cd67-4ffd-bd24-6933cc11b687"
      },
      "execution_count": 6,
      "outputs": [
        {
          "output_type": "stream",
          "name": "stdout",
          "text": [
            "\u001b[1m21/21\u001b[0m \u001b[32m━━━━━━━━━━━━━━━━━━━━\u001b[0m\u001b[37m\u001b[0m \u001b[1m10s\u001b[0m 261ms/step\n",
            "              precision    recall  f1-score   support\n",
            "\n",
            "      Benign       0.92      0.85      0.88       339\n",
            "   Malignant       0.86      0.93      0.89       325\n",
            "\n",
            "    accuracy                           0.89       664\n",
            "   macro avg       0.89      0.89      0.89       664\n",
            "weighted avg       0.89      0.89      0.89       664\n",
            "\n"
          ]
        }
      ]
    },
    {
      "cell_type": "code",
      "source": [
        "# Evaluation - Accuracy\n",
        "acc = accuracy_score(y_val, y_pred_classes)\n",
        "print(f\"Accuracy: {acc*100:.4f} %\")"
      ],
      "metadata": {
        "colab": {
          "base_uri": "https://localhost:8080/"
        },
        "id": "hILCx8bubrgi",
        "outputId": "a2d9c22d-4b01-4d66-fa2d-53958ba77d86"
      },
      "execution_count": 11,
      "outputs": [
        {
          "output_type": "stream",
          "name": "stdout",
          "text": [
            "Accuracy: 88.7048 %\n"
          ]
        }
      ]
    },
    {
      "cell_type": "code",
      "source": [
        "# Evaluation Precision-Recall Curve\n",
        "precision, recall, _ = precision_recall_curve(y_val, y_pred[:,1])\n",
        "plt.plot(recall, precision, marker='.')\n",
        "plt.title('Precision-Recall Curve')\n",
        "plt.xlabel('Recall')\n",
        "plt.ylabel('Precision')\n",
        "plt.grid()\n",
        "plt.show()"
      ],
      "metadata": {
        "colab": {
          "base_uri": "https://localhost:8080/",
          "height": 472
        },
        "id": "AzRSgrkCbras",
        "outputId": "90285e89-069a-4f4c-9e0b-c15920389673"
      },
      "execution_count": 8,
      "outputs": [
        {
          "output_type": "display_data",
          "data": {
            "text/plain": [
              "<Figure size 640x480 with 1 Axes>"
            ],
            "image/png": "[encoded data removed]"
          },
          "metadata": {}
        }
      ]
    },
    {
      "cell_type": "code",
      "source": [
        "# For Custom Testing - Upload and Predict a Single Image\n",
        "uploaded = files.upload()\n",
        "for fname in uploaded.keys():\n",
        "    img_path = fname\n",
        "    img = cv2.imread(img_path)\n",
        "    img = cv2.cvtColor(img, cv2.COLOR_BGR2RGB)\n",
        "    img = apply_clahe(img)\n",
        "    img = cv2.resize(img, (224, 224))\n",
        "    img = np.expand_dims(img / 255.0, axis=0)\n",
        "    pred = model.predict(img)\n",
        "    label = \"Malignant\" if np.argmax(pred) == 1 else \"Benign\"\n",
        "    print(f\"Prediction: {label}\")"
      ],
      "metadata": {
        "id": "r8yqXolXbrQq"
      },
      "execution_count": null,
      "outputs": []
    },
    {
      "cell_type": "code",
      "source": [],
      "metadata": {
        "id": "7VI-CqJEbq6s"
      },
      "execution_count": null,
      "outputs": []
    }
  ]
}