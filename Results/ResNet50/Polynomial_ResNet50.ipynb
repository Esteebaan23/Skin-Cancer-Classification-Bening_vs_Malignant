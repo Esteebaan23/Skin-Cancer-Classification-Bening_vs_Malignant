{
  "nbformat": 4,
  "nbformat_minor": 0,
  "metadata": {
    "colab": {
      "provenance": [],
      "gpuType": "T4"
    },
    "kernelspec": {
      "name": "python3",
      "display_name": "Python 3"
    },
    "language_info": {
      "name": "python"
    },
    "accelerator": "GPU"
  },
  "cells": [
    {
      "cell_type": "code",
      "execution_count": 1,
      "metadata": {
        "colab": {
          "base_uri": "https://localhost:8080/"
        },
        "id": "F6OpciFP5PHa",
        "outputId": "56d09bf6-f2d5-4908-bbae-4d21b90a66d5"
      },
      "outputs": [
        {
          "output_type": "stream",
          "name": "stdout",
          "text": [
            "Mounted at /content/drive\n"
          ]
        }
      ],
      "source": [
        "from google.colab import drive\n",
        "drive.mount('/content/drive')"
      ]
    },
    {
      "cell_type": "code",
      "source": [
        "import os\n",
        "import numpy as np\n",
        "import cv2\n",
        "from tqdm import tqdm\n",
        "from sklearn.metrics import classification_report, accuracy_score, precision_recall_curve, auc\n",
        "import matplotlib.pyplot as plt\n",
        "from tensorflow.keras.applications import ResNet50\n",
        "from tensorflow.keras.layers import GlobalAveragePooling2D, Dense\n",
        "from tensorflow.keras.models import Model\n",
        "from tensorflow.keras.optimizers import Adam\n",
        "from tensorflow.keras.preprocessing.image import ImageDataGenerator"
      ],
      "metadata": {
        "id": "9Metzzwa5Ve3"
      },
      "execution_count": 2,
      "outputs": []
    },
    {
      "cell_type": "code",
      "source": [
        "data_path = '/content/drive/MyDrive/ISIC_image_data'\n",
        "\n",
        "def load_data(data_dir):\n",
        "    images = []\n",
        "    labels = []\n",
        "    for label, folder in enumerate([\"Benign\", \"Malignant\"]):\n",
        "        path = os.path.join(data_dir, folder)\n",
        "        for file in os.listdir(path):\n",
        "            if file.endswith(\".jpg\"):\n",
        "                img = cv2.imread(os.path.join(path, file))\n",
        "                img = cv2.resize(img, (224, 224))\n",
        "                img = img.astype(np.float32) / 255.0\n",
        "                img = np.power(img, 2.0)\n",
        "                img = (img * 255).astype(np.uint8) # Step 2: Polynomial Transformation x²\n",
        "                images.append(img)\n",
        "                labels.append(label)\n",
        "    return np.array(images), np.array(labels)"
      ],
      "metadata": {
        "id": "E4GtCP3y5Vbh"
      },
      "execution_count": 3,
      "outputs": []
    },
    {
      "cell_type": "code",
      "source": [
        "X_train, y_train = load_data(os.path.join(data_path, \"Train\"))\n",
        "X_val, y_val = load_data(os.path.join(data_path, \"Val\"))"
      ],
      "metadata": {
        "id": "yCIT3GV95VWk"
      },
      "execution_count": 4,
      "outputs": []
    },
    {
      "cell_type": "code",
      "source": [
        "# ImageNet-style normalization\n",
        "from tensorflow.keras.applications.resnet50 import preprocess_input\n",
        "X_train = preprocess_input(X_train)\n",
        "X_val = preprocess_input(X_val)\n",
        "\n",
        "# One-hot encoding\n",
        "from tensorflow.keras.utils import to_categorical\n",
        "y_train_cat = to_categorical(y_train, 2)\n",
        "y_val_cat = to_categorical(y_val, 2)"
      ],
      "metadata": {
        "id": "n20C0Sxd5VTK"
      },
      "execution_count": 5,
      "outputs": []
    },
    {
      "cell_type": "code",
      "source": [
        "# Defining and Training ResNet50 Model\n",
        "base_model = ResNet50(weights='imagenet', include_top=False, input_shape=(224, 224, 3))\n",
        "x = base_model.output\n",
        "x = GlobalAveragePooling2D()(x)\n",
        "predictions = Dense(2, activation='softmax')(x)\n",
        "model = Model(inputs=base_model.input, outputs=predictions)\n",
        "\n",
        "from sklearn.utils.class_weight import compute_class_weight\n",
        "\n",
        "# Compute class weights\n",
        "class_weights = compute_class_weight(class_weight='balanced', classes=np.unique(y_train), y=y_train)\n",
        "class_weights = {i: class_weights[i] for i in range(2)}\n",
        "\n",
        "# Fine-tune the last 30 layers\n",
        "for layer in base_model.layers[-30:]:\n",
        "    layer.trainable = True\n",
        "\n",
        "# Compile model\n",
        "model.compile(optimizer=Adam(learning_rate=0.0001), loss='categorical_crossentropy', metrics=['accuracy'])\n",
        "\n",
        "# Data augmentation\n",
        "datagen = ImageDataGenerator(horizontal_flip=True, rotation_range=15, width_shift_range=0.1, height_shift_range=0.1)\n",
        "train_generator = datagen.flow(X_train, y_train_cat, batch_size=32)\n",
        "\n",
        "# Train\n",
        "model.fit(train_generator, epochs=7, validation_data=(X_val, y_val_cat), class_weight=class_weights)\n"
      ],
      "metadata": {
        "colab": {
          "base_uri": "https://localhost:8080/"
        },
        "id": "EwEzRFun5VQq",
        "outputId": "8ca1fd9d-d81f-490f-8fc0-df59cb47df5f"
      },
      "execution_count": 6,
      "outputs": [
        {
          "output_type": "stream",
          "name": "stdout",
          "text": [
            "Downloading data from https://storage.googleapis.com/tensorflow/keras-applications/resnet/resnet50_weights_tf_dim_ordering_tf_kernels_notop.h5\n",
            "\u001b[1m94765736/94765736\u001b[0m \u001b[32m━━━━━━━━━━━━━━━━━━━━\u001b[0m\u001b[37m\u001b[0m \u001b[1m0s\u001b[0m 0us/step\n"
          ]
        },
        {
          "output_type": "stream",
          "name": "stderr",
          "text": [
            "/usr/local/lib/python3.11/dist-packages/keras/src/trainers/data_adapters/py_dataset_adapter.py:121: UserWarning: Your `PyDataset` class should call `super().__init__(**kwargs)` in its constructor. `**kwargs` can include `workers`, `use_multiprocessing`, `max_queue_size`. Do not pass these arguments to `fit()`, as they will be ignored.\n",
            "  self._warn_if_super_not_called()\n"
          ]
        },
        {
          "output_type": "stream",
          "name": "stdout",
          "text": [
            "Epoch 1/7\n",
            "\u001b[1m87/87\u001b[0m \u001b[32m━━━━━━━━━━━━━━━━━━━━\u001b[0m\u001b[37m\u001b[0m \u001b[1m133s\u001b[0m 838ms/step - accuracy: 0.7507 - loss: 0.5086 - val_accuracy: 0.8027 - val_loss: 0.4437\n",
            "Epoch 2/7\n",
            "\u001b[1m87/87\u001b[0m \u001b[32m━━━━━━━━━━━━━━━━━━━━\u001b[0m\u001b[37m\u001b[0m \u001b[1m43s\u001b[0m 491ms/step - accuracy: 0.9071 - loss: 0.2257 - val_accuracy: 0.7455 - val_loss: 0.6574\n",
            "Epoch 3/7\n",
            "\u001b[1m87/87\u001b[0m \u001b[32m━━━━━━━━━━━━━━━━━━━━\u001b[0m\u001b[37m\u001b[0m \u001b[1m44s\u001b[0m 504ms/step - accuracy: 0.9267 - loss: 0.1722 - val_accuracy: 0.8464 - val_loss: 0.4301\n",
            "Epoch 4/7\n",
            "\u001b[1m87/87\u001b[0m \u001b[32m━━━━━━━━━━━━━━━━━━━━\u001b[0m\u001b[37m\u001b[0m \u001b[1m43s\u001b[0m 493ms/step - accuracy: 0.9486 - loss: 0.1269 - val_accuracy: 0.8404 - val_loss: 0.4819\n",
            "Epoch 5/7\n",
            "\u001b[1m87/87\u001b[0m \u001b[32m━━━━━━━━━━━━━━━━━━━━\u001b[0m\u001b[37m\u001b[0m \u001b[1m43s\u001b[0m 497ms/step - accuracy: 0.9634 - loss: 0.0882 - val_accuracy: 0.8599 - val_loss: 0.6400\n",
            "Epoch 6/7\n",
            "\u001b[1m87/87\u001b[0m \u001b[32m━━━━━━━━━━━━━━━━━━━━\u001b[0m\u001b[37m\u001b[0m \u001b[1m44s\u001b[0m 499ms/step - accuracy: 0.9798 - loss: 0.0690 - val_accuracy: 0.8524 - val_loss: 0.5105\n",
            "Epoch 7/7\n",
            "\u001b[1m87/87\u001b[0m \u001b[32m━━━━━━━━━━━━━━━━━━━━\u001b[0m\u001b[37m\u001b[0m \u001b[1m44s\u001b[0m 500ms/step - accuracy: 0.9582 - loss: 0.1010 - val_accuracy: 0.8630 - val_loss: 0.4659\n"
          ]
        },
        {
          "output_type": "execute_result",
          "data": {
            "text/plain": [
              "<keras.src.callbacks.history.History at 0x7fec29cb44d0>"
            ]
          },
          "metadata": {},
          "execution_count": 6
        }
      ]
    },
    {
      "cell_type": "code",
      "source": [
        "# Evaluation\n",
        "y_pred = model.predict(X_val)\n",
        "y_pred_classes = np.argmax(y_pred, axis=1)\n",
        "\n",
        "print(\"\\nClassification Report:\")\n",
        "print(classification_report(y_val, y_pred_classes, target_names=[\"Benign\", \"Malignant\"]))"
      ],
      "metadata": {
        "colab": {
          "base_uri": "https://localhost:8080/"
        },
        "id": "Udr--cHo5VLs",
        "outputId": "20bb8cd2-fce1-4e88-a5f4-22056a05dfbb"
      },
      "execution_count": 7,
      "outputs": [
        {
          "output_type": "stream",
          "name": "stdout",
          "text": [
            "\u001b[1m21/21\u001b[0m \u001b[32m━━━━━━━━━━━━━━━━━━━━\u001b[0m\u001b[37m\u001b[0m \u001b[1m9s\u001b[0m 267ms/step\n",
            "\n",
            "Classification Report:\n",
            "              precision    recall  f1-score   support\n",
            "\n",
            "      Benign       0.88      0.85      0.86       339\n",
            "   Malignant       0.85      0.88      0.86       325\n",
            "\n",
            "    accuracy                           0.86       664\n",
            "   macro avg       0.86      0.86      0.86       664\n",
            "weighted avg       0.86      0.86      0.86       664\n",
            "\n"
          ]
        }
      ]
    },
    {
      "cell_type": "code",
      "source": [
        "acc = accuracy_score(y_val, y_pred_classes)\n",
        "print(f\"\\nValidation Accuracy: {acc:.4f}\")"
      ],
      "metadata": {
        "colab": {
          "base_uri": "https://localhost:8080/"
        },
        "id": "vKT8KsZf5VJC",
        "outputId": "80fff2f8-37c4-4c4f-a395-31002e92693b"
      },
      "execution_count": 8,
      "outputs": [
        {
          "output_type": "stream",
          "name": "stdout",
          "text": [
            "\n",
            "Validation Accuracy: 0.8630\n"
          ]
        }
      ]
    },
    {
      "cell_type": "code",
      "source": [
        "# PR Curve\n",
        "precision, recall, _ = precision_recall_curve(y_val, y_pred[:, 1])\n",
        "pr_auc = auc(recall, precision)\n",
        "plt.figure(figsize=(6, 4))\n",
        "plt.plot(recall, precision, label=f'AUC = {pr_auc:.2f}')\n",
        "plt.xlabel('Recall')\n",
        "plt.ylabel('Precision')\n",
        "plt.title('Precision-Recall Curve')\n",
        "plt.legend()\n",
        "plt.grid()\n",
        "plt.show()"
      ],
      "metadata": {
        "colab": {
          "base_uri": "https://localhost:8080/",
          "height": 410
        },
        "id": "aWt1Vtid6XPI",
        "outputId": "3b68aa6c-54a8-4bb2-b5ee-fc28d5f6cc7a"
      },
      "execution_count": 9,
      "outputs": [
        {
          "output_type": "display_data",
          "data": {
            "text/plain": [
              "<Figure size 600x400 with 1 Axes>"
            ],
            "image/png": "[encoded data removed]"
          },
          "metadata": {}
        }
      ]
    },
    {
      "cell_type": "code",
      "source": [
        "# Predict single uploaded image\n",
        "from google.colab import files\n",
        "from tensorflow.keras.preprocessing import image\n",
        "\n",
        "uploaded = files.upload()\n",
        "for fn in uploaded.keys():\n",
        "    img = image.load_img(fn, target_size=(224, 224))\n",
        "    img_array = image.img_to_array(img) / 255.0\n",
        "    img_array = np.power(img_array, 2)\n",
        "    img_array = preprocess_input(img_array)\n",
        "    img_array = np.expand_dims(img_array, axis=0)\n",
        "    pred = model.predict(img_array)\n",
        "    class_names = [\"Benign\", \"Malignant\"]\n",
        "    print(f\"Prediction: {class_names[np.argmax(pred)]} (Confidence: {np.max(pred)*100:.2f}%)\")"
      ],
      "metadata": {
        "id": "m5-3ADfk67EC"
      },
      "execution_count": null,
      "outputs": []
    },
    {
      "cell_type": "code",
      "source": [],
      "metadata": {
        "id": "IxO_l5Zy6XCG"
      },
      "execution_count": null,
      "outputs": []
    }
  ]
}